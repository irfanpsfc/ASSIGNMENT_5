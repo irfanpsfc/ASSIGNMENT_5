{
 "cells": [
  {
   "cell_type": "markdown",
   "id": "c50eacab",
   "metadata": {},
   "source": [
    "# EXERCISE 1"
   ]
  },
  {
   "cell_type": "code",
   "execution_count": 20,
   "id": "7042e825",
   "metadata": {},
   "outputs": [
    {
     "name": "stdout",
     "output_type": "stream",
     "text": [
      "['Name', 'Age', 'Grade', 'Status']\n",
      "['Alice', '21', 'A', 'Passed']\n",
      "['Charlie', '18', 'B', 'Passed']\n",
      "['David', '21', 'A', 'Passed']\n",
      "['Eve', '20', 'A', 'Passed']\n",
      "['George', '19', 'A', 'Passed']\n",
      "['Isla', '22', 'A', 'Passed']\n",
      "['Jack', '21', 'B', 'Passed']\n",
      "['David', '20', 'A', 'Passed']\n",
      "['Eve', '21', 'B', 'Passed']\n",
      "['Hannah', '19', 'B', 'Passed']\n",
      "['Isla', '19', 'B', 'Passed']\n",
      "['Eve', '20', 'B', 'Passed']\n",
      "['Fiona', '19', 'B', 'Passed']\n",
      "['Hannah', '19', 'B', 'Passed']\n",
      "['Isla', '19', 'B', 'Passed']\n",
      "['Alice', '19', 'B', 'Passed']\n",
      "['Bob', '20', 'B', 'Passed']\n",
      "['Eve', '19', 'A', 'Passed']\n",
      "['Eve', '22', 'A', 'Passed']\n",
      "['Fiona', '20', 'B', 'Passed']\n",
      "['Isla', '22', 'B', 'Passed']\n",
      "['Jack', '21', 'B', 'Passed']\n",
      "['Alice', '22', 'B', 'Passed']\n",
      "['Charlie', '21', 'A', 'Passed']\n",
      "['Eve', '19', 'A', 'Passed']\n",
      "['Hannah', '20', 'B', 'Passed']\n",
      "['Isla', '18', 'A', 'Passed']\n",
      "['Fiona', '22', 'A', 'Passed']\n",
      "['Isla', '20', 'B', 'Passed']\n",
      "['Alice', '22', 'A', 'Passed']\n",
      "['David', '18', 'A', 'Passed']\n",
      "['Fiona', '19', 'A', 'Passed']\n",
      "['Hannah', '19', 'B', 'Passed']\n",
      "['Jack', '22', 'B', 'Passed']\n",
      "['Alice', '19', 'A', 'Passed']\n",
      "['Charlie', '19', 'A', 'Passed']\n",
      "['Eve', '19', 'B', 'Passed']\n",
      "['George', '22', 'A', 'Passed']\n",
      "['Alice', '18', 'A', 'Passed']\n",
      "['Bob', '19', 'B', 'Passed']\n",
      "['David', '22', 'A', 'Passed']\n"
     ]
    }
   ],
   "source": [
    "import csv\n",
    "\n",
    "with open('top_students.csv', 'r') as file:\n",
    "    csv_reader = csv.reader(file)\n",
    "    print(['Name','Age','Grade','Status' ])\n",
    "    for row in csv_reader:\n",
    "        if row[2] <= 'B':\n",
    "            print(row)"
   ]
  },
  {
   "cell_type": "markdown",
   "id": "5e78c369",
   "metadata": {},
   "source": [
    "# PRACTICE EXERCISE"
   ]
  },
  {
   "cell_type": "code",
   "execution_count": 27,
   "id": "bf5046f9",
   "metadata": {},
   "outputs": [
    {
     "name": "stdout",
     "output_type": "stream",
     "text": [
      "Enter the name of the state: Johor\n",
      "Population of Johor: 3794000\n"
     ]
    }
   ],
   "source": [
    "import requests\n",
    "\n",
    "api_url = \"https://jian.sh/malaysia-api/state/v1/all.json\"\n",
    "response = requests.get(api_url)\n",
    "malaysia_state_data = response.json()\n",
    "state_name = input(\"Enter the name of the state: \")\n",
    "\n",
    "found = False\n",
    "\n",
    "for state in malaysia_state_data:\n",
    "    if state_name == state[\"state\"]:\n",
    "        print(\"Population of \" + state_name + \": \" + str(state[\"population\"]))\n",
    "        found = True\n",
    "        break\n",
    "\n",
    "if not found:\n",
    "    print(state_name + \" is not found in the data.\")\n",
    "    "
   ]
  },
  {
   "cell_type": "code",
   "execution_count": 28,
   "id": "1dab6516",
   "metadata": {},
   "outputs": [
    {
     "name": "stdout",
     "output_type": "stream",
     "text": [
      "Enter the name of the state: UnknownState\n",
      "UnknownState is not found in the data.\n"
     ]
    }
   ],
   "source": [
    "import requests\n",
    "\n",
    "api_url = \"https://jian.sh/malaysia-api/state/v1/all.json\"\n",
    "response = requests.get(api_url)\n",
    "malaysia_state_data = response.json()\n",
    "state_name = input(\"Enter the name of the state: \")\n",
    "\n",
    "found = False\n",
    "\n",
    "for state in malaysia_state_data:\n",
    "    if state_name == state[\"state\"]:\n",
    "        print(\"Population of \" + state_name + \": \" + str(state[\"population\"]))\n",
    "        found = True\n",
    "        break\n",
    "\n",
    "if not found:\n",
    "    print(state_name + \" is not found in the data.\")"
   ]
  }
 ],
 "metadata": {
  "kernelspec": {
   "display_name": "Python 3 (ipykernel)",
   "language": "python",
   "name": "python3"
  },
  "language_info": {
   "codemirror_mode": {
    "name": "ipython",
    "version": 3
   },
   "file_extension": ".py",
   "mimetype": "text/x-python",
   "name": "python",
   "nbconvert_exporter": "python",
   "pygments_lexer": "ipython3",
   "version": "3.11.5"
  }
 },
 "nbformat": 4,
 "nbformat_minor": 5
}
